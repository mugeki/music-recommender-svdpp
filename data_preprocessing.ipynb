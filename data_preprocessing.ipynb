{
  "cells": [
    {
      "cell_type": "code",
      "execution_count": 1,
      "metadata": {},
      "outputs": [],
      "source": [
        "import pandas as pd\n",
        "import matplotlib.pyplot as plt\n",
        "import math\n",
        "import numpy as np\n",
        "from sklearn.preprocessing import PowerTransformer"
      ]
    },
    {
      "attachments": {},
      "cell_type": "markdown",
      "metadata": {},
      "source": [
        "**Data Desctription & Visualization**"
      ]
    },
    {
      "cell_type": "code",
      "execution_count": 2,
      "metadata": {},
      "outputs": [
        {
          "data": {
            "text/html": [
              "<div>\n",
              "<style scoped>\n",
              "    .dataframe tbody tr th:only-of-type {\n",
              "        vertical-align: middle;\n",
              "    }\n",
              "\n",
              "    .dataframe tbody tr th {\n",
              "        vertical-align: top;\n",
              "    }\n",
              "\n",
              "    .dataframe thead th {\n",
              "        text-align: right;\n",
              "    }\n",
              "</style>\n",
              "<table border=\"1\" class=\"dataframe\">\n",
              "  <thead>\n",
              "    <tr style=\"text-align: right;\">\n",
              "      <th></th>\n",
              "      <th>music_id</th>\n",
              "      <th>title</th>\n",
              "      <th>release</th>\n",
              "      <th>artist_name</th>\n",
              "      <th>year</th>\n",
              "    </tr>\n",
              "  </thead>\n",
              "  <tbody>\n",
              "    <tr>\n",
              "      <th>0</th>\n",
              "      <td>SOQMMHC12AB0180CB8</td>\n",
              "      <td>Silent Night</td>\n",
              "      <td>Monster Ballads X-Mas</td>\n",
              "      <td>Faster Pussy cat</td>\n",
              "      <td>2003</td>\n",
              "    </tr>\n",
              "    <tr>\n",
              "      <th>1</th>\n",
              "      <td>SOVFVAK12A8C1350D9</td>\n",
              "      <td>Tanssi vaan</td>\n",
              "      <td>Karkuteillä</td>\n",
              "      <td>Karkkiautomaatti</td>\n",
              "      <td>1995</td>\n",
              "    </tr>\n",
              "    <tr>\n",
              "      <th>2</th>\n",
              "      <td>SOGTUKN12AB017F4F1</td>\n",
              "      <td>No One Could Ever</td>\n",
              "      <td>Butter</td>\n",
              "      <td>Hudson Mohawke</td>\n",
              "      <td>2006</td>\n",
              "    </tr>\n",
              "    <tr>\n",
              "      <th>3</th>\n",
              "      <td>SOBNYVR12A8C13558C</td>\n",
              "      <td>Si Vos Querés</td>\n",
              "      <td>De Culo</td>\n",
              "      <td>Yerba Brava</td>\n",
              "      <td>2003</td>\n",
              "    </tr>\n",
              "    <tr>\n",
              "      <th>4</th>\n",
              "      <td>SOHSBXH12A8C13B0DF</td>\n",
              "      <td>Tangle Of Aspens</td>\n",
              "      <td>Rene Ablaze Presents Winter Sessions</td>\n",
              "      <td>Der Mystic</td>\n",
              "      <td>0</td>\n",
              "    </tr>\n",
              "    <tr>\n",
              "      <th>...</th>\n",
              "      <td>...</td>\n",
              "      <td>...</td>\n",
              "      <td>...</td>\n",
              "      <td>...</td>\n",
              "      <td>...</td>\n",
              "    </tr>\n",
              "    <tr>\n",
              "      <th>999995</th>\n",
              "      <td>SOTXAME12AB018F136</td>\n",
              "      <td>O Samba Da Vida</td>\n",
              "      <td>Pacha V.I.P.</td>\n",
              "      <td>Kiko Navarro</td>\n",
              "      <td>0</td>\n",
              "    </tr>\n",
              "    <tr>\n",
              "      <th>999996</th>\n",
              "      <td>SOXQYIQ12A8C137FBB</td>\n",
              "      <td>Jago Chhadeo</td>\n",
              "      <td>Naale Baba Lassi Pee Gya</td>\n",
              "      <td>Kuldeep Manak</td>\n",
              "      <td>0</td>\n",
              "    </tr>\n",
              "    <tr>\n",
              "      <th>999997</th>\n",
              "      <td>SOHODZI12A8C137BB3</td>\n",
              "      <td>Novemba</td>\n",
              "      <td>Dub_Connected: electronic music</td>\n",
              "      <td>Gabriel Le Mar</td>\n",
              "      <td>0</td>\n",
              "    </tr>\n",
              "    <tr>\n",
              "      <th>999998</th>\n",
              "      <td>SOLXGOR12A81C21EB7</td>\n",
              "      <td>Faraday</td>\n",
              "      <td>The Trance Collection Vol. 2</td>\n",
              "      <td>Elude</td>\n",
              "      <td>0</td>\n",
              "    </tr>\n",
              "    <tr>\n",
              "      <th>999999</th>\n",
              "      <td>SOWXJXQ12AB0189F43</td>\n",
              "      <td>Fernweh feat. Sektion Kuchikäschtli</td>\n",
              "      <td>So Oder So</td>\n",
              "      <td>Texta</td>\n",
              "      <td>2004</td>\n",
              "    </tr>\n",
              "  </tbody>\n",
              "</table>\n",
              "<p>1000000 rows × 5 columns</p>\n",
              "</div>"
            ],
            "text/plain": [
              "                  music_id                                title  \\\n",
              "0       SOQMMHC12AB0180CB8                         Silent Night   \n",
              "1       SOVFVAK12A8C1350D9                          Tanssi vaan   \n",
              "2       SOGTUKN12AB017F4F1                    No One Could Ever   \n",
              "3       SOBNYVR12A8C13558C                        Si Vos Querés   \n",
              "4       SOHSBXH12A8C13B0DF                     Tangle Of Aspens   \n",
              "...                    ...                                  ...   \n",
              "999995  SOTXAME12AB018F136                      O Samba Da Vida   \n",
              "999996  SOXQYIQ12A8C137FBB                         Jago Chhadeo   \n",
              "999997  SOHODZI12A8C137BB3                              Novemba   \n",
              "999998  SOLXGOR12A81C21EB7                              Faraday   \n",
              "999999  SOWXJXQ12AB0189F43  Fernweh feat. Sektion Kuchikäschtli   \n",
              "\n",
              "                                     release       artist_name  year  \n",
              "0                      Monster Ballads X-Mas  Faster Pussy cat  2003  \n",
              "1                                Karkuteillä  Karkkiautomaatti  1995  \n",
              "2                                     Butter    Hudson Mohawke  2006  \n",
              "3                                    De Culo       Yerba Brava  2003  \n",
              "4       Rene Ablaze Presents Winter Sessions        Der Mystic     0  \n",
              "...                                      ...               ...   ...  \n",
              "999995                          Pacha V.I.P.      Kiko Navarro     0  \n",
              "999996              Naale Baba Lassi Pee Gya     Kuldeep Manak     0  \n",
              "999997       Dub_Connected: electronic music    Gabriel Le Mar     0  \n",
              "999998          The Trance Collection Vol. 2             Elude     0  \n",
              "999999                            So Oder So             Texta  2004  \n",
              "\n",
              "[1000000 rows x 5 columns]"
            ]
          },
          "execution_count": 2,
          "metadata": {},
          "output_type": "execute_result"
        }
      ],
      "source": [
        "df_song = pd.read_csv('Dataset/song_data.csv')\n",
        "df_song.rename(columns={'song_id': 'music_id'}, inplace=True)\n",
        "df_song"
      ]
    },
    {
      "cell_type": "code",
      "execution_count": 3,
      "metadata": {},
      "outputs": [
        {
          "data": {
            "text/html": [
              "<div>\n",
              "<style scoped>\n",
              "    .dataframe tbody tr th:only-of-type {\n",
              "        vertical-align: middle;\n",
              "    }\n",
              "\n",
              "    .dataframe tbody tr th {\n",
              "        vertical-align: top;\n",
              "    }\n",
              "\n",
              "    .dataframe thead th {\n",
              "        text-align: right;\n",
              "    }\n",
              "</style>\n",
              "<table border=\"1\" class=\"dataframe\">\n",
              "  <thead>\n",
              "    <tr style=\"text-align: right;\">\n",
              "      <th></th>\n",
              "      <th>user_id</th>\n",
              "      <th>music_id</th>\n",
              "      <th>play_count</th>\n",
              "    </tr>\n",
              "  </thead>\n",
              "  <tbody>\n",
              "    <tr>\n",
              "      <th>0</th>\n",
              "      <td>b80344d063b5ccb3212f76538f3d9e43d87dca9e</td>\n",
              "      <td>SOAKIMP12A8C130995</td>\n",
              "      <td>1</td>\n",
              "    </tr>\n",
              "    <tr>\n",
              "      <th>1</th>\n",
              "      <td>b80344d063b5ccb3212f76538f3d9e43d87dca9e</td>\n",
              "      <td>SOBBMDR12A8C13253B</td>\n",
              "      <td>2</td>\n",
              "    </tr>\n",
              "    <tr>\n",
              "      <th>2</th>\n",
              "      <td>b80344d063b5ccb3212f76538f3d9e43d87dca9e</td>\n",
              "      <td>SOBXHDL12A81C204C0</td>\n",
              "      <td>1</td>\n",
              "    </tr>\n",
              "    <tr>\n",
              "      <th>3</th>\n",
              "      <td>b80344d063b5ccb3212f76538f3d9e43d87dca9e</td>\n",
              "      <td>SOBYHAJ12A6701BF1D</td>\n",
              "      <td>1</td>\n",
              "    </tr>\n",
              "    <tr>\n",
              "      <th>4</th>\n",
              "      <td>b80344d063b5ccb3212f76538f3d9e43d87dca9e</td>\n",
              "      <td>SODACBL12A8C13C273</td>\n",
              "      <td>1</td>\n",
              "    </tr>\n",
              "    <tr>\n",
              "      <th>...</th>\n",
              "      <td>...</td>\n",
              "      <td>...</td>\n",
              "      <td>...</td>\n",
              "    </tr>\n",
              "    <tr>\n",
              "      <th>1999995</th>\n",
              "      <td>d8bfd4ec88f0f3773a9e022e3c1a0f1d3b7b6a92</td>\n",
              "      <td>SOJEYPO12AAA8C6B0E</td>\n",
              "      <td>2</td>\n",
              "    </tr>\n",
              "    <tr>\n",
              "      <th>1999996</th>\n",
              "      <td>d8bfd4ec88f0f3773a9e022e3c1a0f1d3b7b6a92</td>\n",
              "      <td>SOJJYDE12AF729FC16</td>\n",
              "      <td>4</td>\n",
              "    </tr>\n",
              "    <tr>\n",
              "      <th>1999997</th>\n",
              "      <td>d8bfd4ec88f0f3773a9e022e3c1a0f1d3b7b6a92</td>\n",
              "      <td>SOJKQSF12A6D4F5EE9</td>\n",
              "      <td>3</td>\n",
              "    </tr>\n",
              "    <tr>\n",
              "      <th>1999998</th>\n",
              "      <td>d8bfd4ec88f0f3773a9e022e3c1a0f1d3b7b6a92</td>\n",
              "      <td>SOJUXGA12AC961885C</td>\n",
              "      <td>1</td>\n",
              "    </tr>\n",
              "    <tr>\n",
              "      <th>1999999</th>\n",
              "      <td>d8bfd4ec88f0f3773a9e022e3c1a0f1d3b7b6a92</td>\n",
              "      <td>SOJYOLS12A8C13C06F</td>\n",
              "      <td>1</td>\n",
              "    </tr>\n",
              "  </tbody>\n",
              "</table>\n",
              "<p>2000000 rows × 3 columns</p>\n",
              "</div>"
            ],
            "text/plain": [
              "                                          user_id            music_id  \\\n",
              "0        b80344d063b5ccb3212f76538f3d9e43d87dca9e  SOAKIMP12A8C130995   \n",
              "1        b80344d063b5ccb3212f76538f3d9e43d87dca9e  SOBBMDR12A8C13253B   \n",
              "2        b80344d063b5ccb3212f76538f3d9e43d87dca9e  SOBXHDL12A81C204C0   \n",
              "3        b80344d063b5ccb3212f76538f3d9e43d87dca9e  SOBYHAJ12A6701BF1D   \n",
              "4        b80344d063b5ccb3212f76538f3d9e43d87dca9e  SODACBL12A8C13C273   \n",
              "...                                           ...                 ...   \n",
              "1999995  d8bfd4ec88f0f3773a9e022e3c1a0f1d3b7b6a92  SOJEYPO12AAA8C6B0E   \n",
              "1999996  d8bfd4ec88f0f3773a9e022e3c1a0f1d3b7b6a92  SOJJYDE12AF729FC16   \n",
              "1999997  d8bfd4ec88f0f3773a9e022e3c1a0f1d3b7b6a92  SOJKQSF12A6D4F5EE9   \n",
              "1999998  d8bfd4ec88f0f3773a9e022e3c1a0f1d3b7b6a92  SOJUXGA12AC961885C   \n",
              "1999999  d8bfd4ec88f0f3773a9e022e3c1a0f1d3b7b6a92  SOJYOLS12A8C13C06F   \n",
              "\n",
              "         play_count  \n",
              "0                 1  \n",
              "1                 2  \n",
              "2                 1  \n",
              "3                 1  \n",
              "4                 1  \n",
              "...             ...  \n",
              "1999995           2  \n",
              "1999996           4  \n",
              "1999997           3  \n",
              "1999998           1  \n",
              "1999999           1  \n",
              "\n",
              "[2000000 rows x 3 columns]"
            ]
          },
          "execution_count": 3,
          "metadata": {},
          "output_type": "execute_result"
        }
      ],
      "source": [
        "file_path = 'Dataset/10000.txt'\n",
        "df_user = pd.read_csv(file_path, sep='\\t', header=None, names=['user_id', 'music_id', 'play_count'])\n",
        "df_user  "
      ]
    },
    {
      "cell_type": "code",
      "execution_count": 5,
      "metadata": {},
      "outputs": [
        {
          "name": "stdout",
          "output_type": "stream",
          "text": [
            "user_count:  76353\n",
            "music_count:  10000\n"
          ]
        }
      ],
      "source": [
        "user_count = df_user.user_id.nunique()\n",
        "music_count = df_user.music_id.nunique()\n",
        "print('user_count: ', user_count)\n",
        "print('music_count: ', music_count)"
      ]
    },
    {
      "cell_type": "code",
      "execution_count": 6,
      "metadata": {},
      "outputs": [
        {
          "data": {
            "text/html": [
              "<div>\n",
              "<style scoped>\n",
              "    .dataframe tbody tr th:only-of-type {\n",
              "        vertical-align: middle;\n",
              "    }\n",
              "\n",
              "    .dataframe tbody tr th {\n",
              "        vertical-align: top;\n",
              "    }\n",
              "\n",
              "    .dataframe thead th {\n",
              "        text-align: right;\n",
              "    }\n",
              "</style>\n",
              "<table border=\"1\" class=\"dataframe\">\n",
              "  <thead>\n",
              "    <tr style=\"text-align: right;\">\n",
              "      <th></th>\n",
              "      <th>0</th>\n",
              "      <th>1</th>\n",
              "      <th>2</th>\n",
              "      <th>3</th>\n",
              "      <th>4</th>\n",
              "      <th>5</th>\n",
              "      <th>6</th>\n",
              "      <th>7</th>\n",
              "    </tr>\n",
              "  </thead>\n",
              "  <tbody>\n",
              "    <tr>\n",
              "      <th>index</th>\n",
              "      <td>count</td>\n",
              "      <td>mean</td>\n",
              "      <td>std</td>\n",
              "      <td>min</td>\n",
              "      <td>25%</td>\n",
              "      <td>50%</td>\n",
              "      <td>75%</td>\n",
              "      <td>max</td>\n",
              "    </tr>\n",
              "    <tr>\n",
              "      <th>play_count</th>\n",
              "      <td>2000000.0</td>\n",
              "      <td>3.045485</td>\n",
              "      <td>6.57972</td>\n",
              "      <td>1.0</td>\n",
              "      <td>1.0</td>\n",
              "      <td>1.0</td>\n",
              "      <td>3.0</td>\n",
              "      <td>2213.0</td>\n",
              "    </tr>\n",
              "  </tbody>\n",
              "</table>\n",
              "</div>"
            ],
            "text/plain": [
              "                    0         1        2    3    4    5    6       7\n",
              "index           count      mean      std  min  25%  50%  75%     max\n",
              "play_count  2000000.0  3.045485  6.57972  1.0  1.0  1.0  3.0  2213.0"
            ]
          },
          "execution_count": 6,
          "metadata": {},
          "output_type": "execute_result"
        }
      ],
      "source": [
        "df_user.play_count.describe().reset_index().T"
      ]
    },
    {
      "cell_type": "code",
      "execution_count": 7,
      "metadata": {},
      "outputs": [],
      "source": [
        "def describe_play_count(more_than=0, less_than=math.inf):\n",
        "    cond = (df_user.play_count >= more_than) & (df_user.play_count < less_than)\n",
        "    unique_user = df_user.user_id[cond].unique().shape[0]\n",
        "    of_total_play_count = df_user.play_count[cond].count()/df_user.shape[0]\n",
        "    print(f\"({more_than} >= playCount < {less_than}) Unique user: {unique_user}\")\n",
        "    print(f\"{of_total_play_count:.2%} of total play count\")\n",
        "    display(df_user[cond].play_count.describe().reset_index().T)"
      ]
    },
    {
      "cell_type": "code",
      "execution_count": 8,
      "metadata": {},
      "outputs": [
        {
          "name": "stdout",
          "output_type": "stream",
          "text": [
            "(0 >= playCount < 10) Unique user: 76241\n",
            "94.30% of total play count\n"
          ]
        },
        {
          "data": {
            "text/html": [
              "<div>\n",
              "<style scoped>\n",
              "    .dataframe tbody tr th:only-of-type {\n",
              "        vertical-align: middle;\n",
              "    }\n",
              "\n",
              "    .dataframe tbody tr th {\n",
              "        vertical-align: top;\n",
              "    }\n",
              "\n",
              "    .dataframe thead th {\n",
              "        text-align: right;\n",
              "    }\n",
              "</style>\n",
              "<table border=\"1\" class=\"dataframe\">\n",
              "  <thead>\n",
              "    <tr style=\"text-align: right;\">\n",
              "      <th></th>\n",
              "      <th>0</th>\n",
              "      <th>1</th>\n",
              "      <th>2</th>\n",
              "      <th>3</th>\n",
              "      <th>4</th>\n",
              "      <th>5</th>\n",
              "      <th>6</th>\n",
              "      <th>7</th>\n",
              "    </tr>\n",
              "  </thead>\n",
              "  <tbody>\n",
              "    <tr>\n",
              "      <th>index</th>\n",
              "      <td>count</td>\n",
              "      <td>mean</td>\n",
              "      <td>std</td>\n",
              "      <td>min</td>\n",
              "      <td>25%</td>\n",
              "      <td>50%</td>\n",
              "      <td>75%</td>\n",
              "      <td>max</td>\n",
              "    </tr>\n",
              "    <tr>\n",
              "      <th>play_count</th>\n",
              "      <td>1885963.0</td>\n",
              "      <td>2.020525</td>\n",
              "      <td>1.720807</td>\n",
              "      <td>1.0</td>\n",
              "      <td>1.0</td>\n",
              "      <td>1.0</td>\n",
              "      <td>2.0</td>\n",
              "      <td>9.0</td>\n",
              "    </tr>\n",
              "  </tbody>\n",
              "</table>\n",
              "</div>"
            ],
            "text/plain": [
              "                    0         1         2    3    4    5    6    7\n",
              "index           count      mean       std  min  25%  50%  75%  max\n",
              "play_count  1885963.0  2.020525  1.720807  1.0  1.0  1.0  2.0  9.0"
            ]
          },
          "metadata": {},
          "output_type": "display_data"
        },
        {
          "name": "stdout",
          "output_type": "stream",
          "text": [
            "(10 >= playCount < 50) Unique user: 31388\n",
            "5.45% of total play count\n"
          ]
        },
        {
          "data": {
            "text/html": [
              "<div>\n",
              "<style scoped>\n",
              "    .dataframe tbody tr th:only-of-type {\n",
              "        vertical-align: middle;\n",
              "    }\n",
              "\n",
              "    .dataframe tbody tr th {\n",
              "        vertical-align: top;\n",
              "    }\n",
              "\n",
              "    .dataframe thead th {\n",
              "        text-align: right;\n",
              "    }\n",
              "</style>\n",
              "<table border=\"1\" class=\"dataframe\">\n",
              "  <thead>\n",
              "    <tr style=\"text-align: right;\">\n",
              "      <th></th>\n",
              "      <th>0</th>\n",
              "      <th>1</th>\n",
              "      <th>2</th>\n",
              "      <th>3</th>\n",
              "      <th>4</th>\n",
              "      <th>5</th>\n",
              "      <th>6</th>\n",
              "      <th>7</th>\n",
              "    </tr>\n",
              "  </thead>\n",
              "  <tbody>\n",
              "    <tr>\n",
              "      <th>index</th>\n",
              "      <td>count</td>\n",
              "      <td>mean</td>\n",
              "      <td>std</td>\n",
              "      <td>min</td>\n",
              "      <td>25%</td>\n",
              "      <td>50%</td>\n",
              "      <td>75%</td>\n",
              "      <td>max</td>\n",
              "    </tr>\n",
              "    <tr>\n",
              "      <th>play_count</th>\n",
              "      <td>109019.0</td>\n",
              "      <td>17.13272</td>\n",
              "      <td>8.177559</td>\n",
              "      <td>10.0</td>\n",
              "      <td>11.0</td>\n",
              "      <td>14.0</td>\n",
              "      <td>20.0</td>\n",
              "      <td>49.0</td>\n",
              "    </tr>\n",
              "  </tbody>\n",
              "</table>\n",
              "</div>"
            ],
            "text/plain": [
              "                   0         1         2     3     4     5     6     7\n",
              "index          count      mean       std   min   25%   50%   75%   max\n",
              "play_count  109019.0  17.13272  8.177559  10.0  11.0  14.0  20.0  49.0"
            ]
          },
          "metadata": {},
          "output_type": "display_data"
        },
        {
          "name": "stdout",
          "output_type": "stream",
          "text": [
            "(50 >= playCount < 100) Unique user: 2903\n",
            "0.21% of total play count\n"
          ]
        },
        {
          "data": {
            "text/html": [
              "<div>\n",
              "<style scoped>\n",
              "    .dataframe tbody tr th:only-of-type {\n",
              "        vertical-align: middle;\n",
              "    }\n",
              "\n",
              "    .dataframe tbody tr th {\n",
              "        vertical-align: top;\n",
              "    }\n",
              "\n",
              "    .dataframe thead th {\n",
              "        text-align: right;\n",
              "    }\n",
              "</style>\n",
              "<table border=\"1\" class=\"dataframe\">\n",
              "  <thead>\n",
              "    <tr style=\"text-align: right;\">\n",
              "      <th></th>\n",
              "      <th>0</th>\n",
              "      <th>1</th>\n",
              "      <th>2</th>\n",
              "      <th>3</th>\n",
              "      <th>4</th>\n",
              "      <th>5</th>\n",
              "      <th>6</th>\n",
              "      <th>7</th>\n",
              "    </tr>\n",
              "  </thead>\n",
              "  <tbody>\n",
              "    <tr>\n",
              "      <th>index</th>\n",
              "      <td>count</td>\n",
              "      <td>mean</td>\n",
              "      <td>std</td>\n",
              "      <td>min</td>\n",
              "      <td>25%</td>\n",
              "      <td>50%</td>\n",
              "      <td>75%</td>\n",
              "      <td>max</td>\n",
              "    </tr>\n",
              "    <tr>\n",
              "      <th>play_count</th>\n",
              "      <td>4148.0</td>\n",
              "      <td>65.283269</td>\n",
              "      <td>13.04571</td>\n",
              "      <td>50.0</td>\n",
              "      <td>54.0</td>\n",
              "      <td>61.0</td>\n",
              "      <td>74.0</td>\n",
              "      <td>99.0</td>\n",
              "    </tr>\n",
              "  </tbody>\n",
              "</table>\n",
              "</div>"
            ],
            "text/plain": [
              "                 0          1         2     3     4     5     6     7\n",
              "index        count       mean       std   min   25%   50%   75%   max\n",
              "play_count  4148.0  65.283269  13.04571  50.0  54.0  61.0  74.0  99.0"
            ]
          },
          "metadata": {},
          "output_type": "display_data"
        },
        {
          "name": "stdout",
          "output_type": "stream",
          "text": [
            "(100 >= playCount < 200) Unique user: 572\n",
            "0.04% of total play count\n"
          ]
        },
        {
          "data": {
            "text/html": [
              "<div>\n",
              "<style scoped>\n",
              "    .dataframe tbody tr th:only-of-type {\n",
              "        vertical-align: middle;\n",
              "    }\n",
              "\n",
              "    .dataframe tbody tr th {\n",
              "        vertical-align: top;\n",
              "    }\n",
              "\n",
              "    .dataframe thead th {\n",
              "        text-align: right;\n",
              "    }\n",
              "</style>\n",
              "<table border=\"1\" class=\"dataframe\">\n",
              "  <thead>\n",
              "    <tr style=\"text-align: right;\">\n",
              "      <th></th>\n",
              "      <th>0</th>\n",
              "      <th>1</th>\n",
              "      <th>2</th>\n",
              "      <th>3</th>\n",
              "      <th>4</th>\n",
              "      <th>5</th>\n",
              "      <th>6</th>\n",
              "      <th>7</th>\n",
              "    </tr>\n",
              "  </thead>\n",
              "  <tbody>\n",
              "    <tr>\n",
              "      <th>index</th>\n",
              "      <td>count</td>\n",
              "      <td>mean</td>\n",
              "      <td>std</td>\n",
              "      <td>min</td>\n",
              "      <td>25%</td>\n",
              "      <td>50%</td>\n",
              "      <td>75%</td>\n",
              "      <td>max</td>\n",
              "    </tr>\n",
              "    <tr>\n",
              "      <th>play_count</th>\n",
              "      <td>728.0</td>\n",
              "      <td>131.252747</td>\n",
              "      <td>26.13865</td>\n",
              "      <td>100.0</td>\n",
              "      <td>109.0</td>\n",
              "      <td>124.0</td>\n",
              "      <td>149.0</td>\n",
              "      <td>199.0</td>\n",
              "    </tr>\n",
              "  </tbody>\n",
              "</table>\n",
              "</div>"
            ],
            "text/plain": [
              "                0           1         2      3      4      5      6      7\n",
              "index       count        mean       std    min    25%    50%    75%    max\n",
              "play_count  728.0  131.252747  26.13865  100.0  109.0  124.0  149.0  199.0"
            ]
          },
          "metadata": {},
          "output_type": "display_data"
        },
        {
          "name": "stdout",
          "output_type": "stream",
          "text": [
            "(200 >= playCount < 500) Unique user: 114\n",
            "0.01% of total play count\n"
          ]
        },
        {
          "data": {
            "text/html": [
              "<div>\n",
              "<style scoped>\n",
              "    .dataframe tbody tr th:only-of-type {\n",
              "        vertical-align: middle;\n",
              "    }\n",
              "\n",
              "    .dataframe tbody tr th {\n",
              "        vertical-align: top;\n",
              "    }\n",
              "\n",
              "    .dataframe thead th {\n",
              "        text-align: right;\n",
              "    }\n",
              "</style>\n",
              "<table border=\"1\" class=\"dataframe\">\n",
              "  <thead>\n",
              "    <tr style=\"text-align: right;\">\n",
              "      <th></th>\n",
              "      <th>0</th>\n",
              "      <th>1</th>\n",
              "      <th>2</th>\n",
              "      <th>3</th>\n",
              "      <th>4</th>\n",
              "      <th>5</th>\n",
              "      <th>6</th>\n",
              "      <th>7</th>\n",
              "    </tr>\n",
              "  </thead>\n",
              "  <tbody>\n",
              "    <tr>\n",
              "      <th>index</th>\n",
              "      <td>count</td>\n",
              "      <td>mean</td>\n",
              "      <td>std</td>\n",
              "      <td>min</td>\n",
              "      <td>25%</td>\n",
              "      <td>50%</td>\n",
              "      <td>75%</td>\n",
              "      <td>max</td>\n",
              "    </tr>\n",
              "    <tr>\n",
              "      <th>play_count</th>\n",
              "      <td>129.0</td>\n",
              "      <td>278.852713</td>\n",
              "      <td>71.679528</td>\n",
              "      <td>200.0</td>\n",
              "      <td>224.0</td>\n",
              "      <td>255.0</td>\n",
              "      <td>319.0</td>\n",
              "      <td>488.0</td>\n",
              "    </tr>\n",
              "  </tbody>\n",
              "</table>\n",
              "</div>"
            ],
            "text/plain": [
              "                0           1          2      3      4      5      6      7\n",
              "index       count        mean        std    min    25%    50%    75%    max\n",
              "play_count  129.0  278.852713  71.679528  200.0  224.0  255.0  319.0  488.0"
            ]
          },
          "metadata": {},
          "output_type": "display_data"
        },
        {
          "name": "stdout",
          "output_type": "stream",
          "text": [
            "(500 >= playCount < 1000) Unique user: 10\n",
            "0.00% of total play count\n"
          ]
        },
        {
          "data": {
            "text/html": [
              "<div>\n",
              "<style scoped>\n",
              "    .dataframe tbody tr th:only-of-type {\n",
              "        vertical-align: middle;\n",
              "    }\n",
              "\n",
              "    .dataframe tbody tr th {\n",
              "        vertical-align: top;\n",
              "    }\n",
              "\n",
              "    .dataframe thead th {\n",
              "        text-align: right;\n",
              "    }\n",
              "</style>\n",
              "<table border=\"1\" class=\"dataframe\">\n",
              "  <thead>\n",
              "    <tr style=\"text-align: right;\">\n",
              "      <th></th>\n",
              "      <th>0</th>\n",
              "      <th>1</th>\n",
              "      <th>2</th>\n",
              "      <th>3</th>\n",
              "      <th>4</th>\n",
              "      <th>5</th>\n",
              "      <th>6</th>\n",
              "      <th>7</th>\n",
              "    </tr>\n",
              "  </thead>\n",
              "  <tbody>\n",
              "    <tr>\n",
              "      <th>index</th>\n",
              "      <td>count</td>\n",
              "      <td>mean</td>\n",
              "      <td>std</td>\n",
              "      <td>min</td>\n",
              "      <td>25%</td>\n",
              "      <td>50%</td>\n",
              "      <td>75%</td>\n",
              "      <td>max</td>\n",
              "    </tr>\n",
              "    <tr>\n",
              "      <th>play_count</th>\n",
              "      <td>12.0</td>\n",
              "      <td>667.5</td>\n",
              "      <td>136.715697</td>\n",
              "      <td>500.0</td>\n",
              "      <td>577.0</td>\n",
              "      <td>656.5</td>\n",
              "      <td>711.25</td>\n",
              "      <td>920.0</td>\n",
              "    </tr>\n",
              "  </tbody>\n",
              "</table>\n",
              "</div>"
            ],
            "text/plain": [
              "                0      1           2      3      4      5       6      7\n",
              "index       count   mean         std    min    25%    50%     75%    max\n",
              "play_count   12.0  667.5  136.715697  500.0  577.0  656.5  711.25  920.0"
            ]
          },
          "metadata": {},
          "output_type": "display_data"
        },
        {
          "name": "stdout",
          "output_type": "stream",
          "text": [
            "(1000 >= playCount < 2214) Unique user: 1\n",
            "0.00% of total play count\n"
          ]
        },
        {
          "data": {
            "text/html": [
              "<div>\n",
              "<style scoped>\n",
              "    .dataframe tbody tr th:only-of-type {\n",
              "        vertical-align: middle;\n",
              "    }\n",
              "\n",
              "    .dataframe tbody tr th {\n",
              "        vertical-align: top;\n",
              "    }\n",
              "\n",
              "    .dataframe thead th {\n",
              "        text-align: right;\n",
              "    }\n",
              "</style>\n",
              "<table border=\"1\" class=\"dataframe\">\n",
              "  <thead>\n",
              "    <tr style=\"text-align: right;\">\n",
              "      <th></th>\n",
              "      <th>0</th>\n",
              "      <th>1</th>\n",
              "      <th>2</th>\n",
              "      <th>3</th>\n",
              "      <th>4</th>\n",
              "      <th>5</th>\n",
              "      <th>6</th>\n",
              "      <th>7</th>\n",
              "    </tr>\n",
              "  </thead>\n",
              "  <tbody>\n",
              "    <tr>\n",
              "      <th>index</th>\n",
              "      <td>count</td>\n",
              "      <td>mean</td>\n",
              "      <td>std</td>\n",
              "      <td>min</td>\n",
              "      <td>25%</td>\n",
              "      <td>50%</td>\n",
              "      <td>75%</td>\n",
              "      <td>max</td>\n",
              "    </tr>\n",
              "    <tr>\n",
              "      <th>play_count</th>\n",
              "      <td>1.0</td>\n",
              "      <td>2213.0</td>\n",
              "      <td>NaN</td>\n",
              "      <td>2213.0</td>\n",
              "      <td>2213.0</td>\n",
              "      <td>2213.0</td>\n",
              "      <td>2213.0</td>\n",
              "      <td>2213.0</td>\n",
              "    </tr>\n",
              "  </tbody>\n",
              "</table>\n",
              "</div>"
            ],
            "text/plain": [
              "                0       1    2       3       4       5       6       7\n",
              "index       count    mean  std     min     25%     50%     75%     max\n",
              "play_count    1.0  2213.0  NaN  2213.0  2213.0  2213.0  2213.0  2213.0"
            ]
          },
          "metadata": {},
          "output_type": "display_data"
        }
      ],
      "source": [
        "describe_play_count(0,10)\n",
        "describe_play_count(10,50)\n",
        "describe_play_count(50,100)\n",
        "describe_play_count(100,200)\n",
        "describe_play_count(200,500)\n",
        "describe_play_count(500,1000)\n",
        "describe_play_count(1000,2214)"
      ]
    },
    {
      "cell_type": "code",
      "execution_count": 9,
      "metadata": {},
      "outputs": [],
      "source": [
        "def normalize_log_play_count(base=2.718281828459, bins=20):\n",
        "    play_count_norm = np.array(df_user.play_count)\n",
        "    play_count_norm = play_count_norm\n",
        "    play_count_norm = np.emath.logn(base, play_count_norm)\n",
        "    # scanle to [1, 5]\n",
        "    play_count_norm = (play_count_norm - play_count_norm.min()) / (play_count_norm.max() - play_count_norm.min()) * 4 + 1\n",
        "    # play_count_norm = ((play_count_norm - play_count_norm.min()) * (5-1))/ (play_count_norm.max() - play_count_norm.min())\n",
        "    \n",
        "\n",
        "    plt.figure(figsize=(8, 5))\n",
        "    plt.hist(play_count_norm, bins=bins)\n",
        "    plt.xlabel(f'base {base} log play_count')\n",
        "    plt.show()\n",
        "\n",
        "    new_df = df_user.copy()\n",
        "    new_df.play_count = play_count_norm\n",
        "    new_df.rename(columns={\"play_count\": \"rating\"}, inplace=True)\n",
        "    return new_df\n",
        "\n",
        "def normalize_range_play_count(a=1, b=5, bins=20):\n",
        "    pt = PowerTransformer(method=\"box-cox\")\n",
        "    new_df = df_user.copy()\n",
        "    new_df[[\"play_count\"]] = pd.DataFrame(pt.fit_transform(new_df[[\"play_count\"]]), columns=[\"play_count\"])\n",
        "    new_df[[\"play_count\"]] = a + (((new_df[[\"play_count\"]] - new_df[[\"play_count\"]].min()) * (b - a)) / (new_df[[\"play_count\"]].max() - new_df[[\"play_count\"]].min()))\n",
        "\n",
        "\n",
        "    # # normalize play_count to range [1, 5]\n",
        "    # play_count_norm = np.array(df_user.play_count)\n",
        "    \n",
        "    # plt.figure(figsize=(8, 5))\n",
        "    # plt.hist(play_count_norm)\n",
        "    # plt.xlabel(f'normalized play_count')\n",
        "    # plt.show()\n",
        "\n",
        "    # new_df = df_user.copy()\n",
        "    # new_df.play_count = play_count_norm\n",
        "    new_df.rename(columns={\"play_count\": \"rating\"}, inplace=True)\n",
        "    plt.figure(figsize=(8, 5))\n",
        "    plt.hist(new_df['rating'], bins=bins)\n",
        "    # plt.xlabel(f'base {base} log play_count')\n",
        "    plt.show()\n",
        "    # new_df['rating'].figure(figsize=(8, 5))\n",
        "    return new_df"
      ]
    },
    {
      "cell_type": "code",
      "execution_count": 10,
      "metadata": {},
      "outputs": [
        {
          "data": {
            "image/png": "[encoded data removed]",
            "text/plain": [
              "<Figure size 576x360 with 1 Axes>"
            ]
          },
          "metadata": {
            "needs_background": "light"
          },
          "output_type": "display_data"
        },
        {
          "data": {
            "image/png": "[encoded data removed]",
            "text/plain": [
              "<Figure size 576x360 with 1 Axes>"
            ]
          },
          "metadata": {
            "needs_background": "light"
          },
          "output_type": "display_data"
        },
        {
          "data": {
            "image/png": "[encoded data removed]",
            "text/plain": [
              "<Figure size 576x360 with 1 Axes>"
            ]
          },
          "metadata": {
            "needs_background": "light"
          },
          "output_type": "display_data"
        },
        {
          "data": {
            "image/png": "[encoded data removed]",
            "text/plain": [
              "<Figure size 576x360 with 1 Axes>"
            ]
          },
          "metadata": {
            "needs_background": "light"
          },
          "output_type": "display_data"
        },
        {
          "data": {
            "image/png": "[encoded data removed]",
            "text/plain": [
              "<Figure size 576x360 with 1 Axes>"
            ]
          },
          "metadata": {
            "needs_background": "light"
          },
          "output_type": "display_data"
        },
        {
          "data": {
            "image/png": "[encoded data removed]",
            "text/plain": [
              "<Figure size 576x360 with 1 Axes>"
            ]
          },
          "metadata": {
            "needs_background": "light"
          },
          "output_type": "display_data"
        }
      ],
      "source": [
        "df_log_e = normalize_log_play_count(bins=10)\n",
        "df_log_2 = normalize_log_play_count(2, 10)\n",
        "df_log_4 = normalize_log_play_count(4, 10)\n",
        "df_log_8 = normalize_log_play_count(8, 10)\n",
        "df_log_10 = normalize_log_play_count(10, 10)\n",
        "df_power_transform = normalize_range_play_count()"
      ]
    },
    {
      "cell_type": "code",
      "execution_count": 163,
      "metadata": {},
      "outputs": [
        {
          "data": {
            "text/html": [
              "<div>\n",
              "<style scoped>\n",
              "    .dataframe tbody tr th:only-of-type {\n",
              "        vertical-align: middle;\n",
              "    }\n",
              "\n",
              "    .dataframe tbody tr th {\n",
              "        vertical-align: top;\n",
              "    }\n",
              "\n",
              "    .dataframe thead th {\n",
              "        text-align: right;\n",
              "    }\n",
              "</style>\n",
              "<table border=\"1\" class=\"dataframe\">\n",
              "  <thead>\n",
              "    <tr style=\"text-align: right;\">\n",
              "      <th></th>\n",
              "      <th>rating</th>\n",
              "    </tr>\n",
              "  </thead>\n",
              "  <tbody>\n",
              "    <tr>\n",
              "      <th>count</th>\n",
              "      <td>2.000000e+06</td>\n",
              "    </tr>\n",
              "    <tr>\n",
              "      <th>mean</th>\n",
              "      <td>2.216346e+00</td>\n",
              "    </tr>\n",
              "    <tr>\n",
              "      <th>std</th>\n",
              "      <td>1.460205e+00</td>\n",
              "    </tr>\n",
              "    <tr>\n",
              "      <th>min</th>\n",
              "      <td>1.000000e+00</td>\n",
              "    </tr>\n",
              "    <tr>\n",
              "      <th>25%</th>\n",
              "      <td>1.000000e+00</td>\n",
              "    </tr>\n",
              "    <tr>\n",
              "      <th>50%</th>\n",
              "      <td>1.000000e+00</td>\n",
              "    </tr>\n",
              "    <tr>\n",
              "      <th>75%</th>\n",
              "      <td>3.743918e+00</td>\n",
              "    </tr>\n",
              "    <tr>\n",
              "      <th>max</th>\n",
              "      <td>5.000000e+00</td>\n",
              "    </tr>\n",
              "  </tbody>\n",
              "</table>\n",
              "</div>"
            ],
            "text/plain": [
              "             rating\n",
              "count  2.000000e+06\n",
              "mean   2.216346e+00\n",
              "std    1.460205e+00\n",
              "min    1.000000e+00\n",
              "25%    1.000000e+00\n",
              "50%    1.000000e+00\n",
              "75%    3.743918e+00\n",
              "max    5.000000e+00"
            ]
          },
          "execution_count": 163,
          "metadata": {},
          "output_type": "execute_result"
        }
      ],
      "source": [
        "# df_log_e[(df_log_e.rating >= 4) & (df_log_e.rating < 5)]\n",
        "# df_log_e[(df_log_e.rating >= 5)].describe()\n",
        "# df_log_4[(df_log_4.rating < 1)].sort_values(by='rating', ascending=True)\n",
        "# df_log_8.describe()\n",
        "\n",
        "df_power_transform.describe()"
      ]
    },
    {
      "cell_type": "code",
      "execution_count": 14,
      "metadata": {},
      "outputs": [],
      "source": [
        "df_log_e.to_csv('Dataset/preprocessed_data_log_e.csv', index=False)\n",
        "df_log_2.to_csv('Dataset/preprocessed_data_log_2.csv', index=False)\n",
        "df_log_4.to_csv('Dataset/preprocessed_data_log_4.csv', index=False)\n",
        "df_log_8.to_csv('Dataset/preprocessed_data_log_8.csv', index=False)\n",
        "df_log_10.to_csv('Dataset/preprocessed_data_log_10.csv', index=False)\n",
        "df_power_transform.to_csv('Dataset/preprocessed_data_power_transform.csv', index=False)"
      ]
    },
    {
      "attachments": {},
      "cell_type": "markdown",
      "metadata": {},
      "source": [
        "**Preprocessing Data**"
      ]
    },
    {
      "cell_type": "code",
      "execution_count": 174,
      "metadata": {},
      "outputs": [
        {
          "name": "stdout",
          "output_type": "stream",
          "text": [
            "1451476\n",
            "514074\n",
            "33580\n",
            "728\n",
            "142\n"
          ]
        }
      ],
      "source": [
        "def categorize_play_count(play_count):    \n",
        "    if play_count < 3: # was 10\n",
        "        return 1\n",
        "    elif play_count < 20: # was 25\n",
        "        return 2   \n",
        "    elif play_count < 100:\n",
        "        return 3\n",
        "    elif play_count < 200:\n",
        "        return 4\n",
        "    else:\n",
        "        return 5\n",
        "\n",
        "data_categorized = df_user.copy()\n",
        "data_categorized['rating'] = df_user.play_count.apply(categorize_play_count)\n",
        "data_categorized.drop(columns=['play_count'], inplace=True)\n",
        "print(len(data_categorized[data_categorized['rating'] == 1]))\n",
        "print(len(data_categorized[data_categorized['rating'] == 2]))\n",
        "print(len(data_categorized[data_categorized['rating'] == 3]))\n",
        "print(len(data_categorized[data_categorized['rating'] == 4]))\n",
        "print(len(data_categorized[data_categorized['rating'] == 5]))"
      ]
    },
    {
      "cell_type": "code",
      "execution_count": 172,
      "metadata": {},
      "outputs": [
        {
          "data": {
            "text/html": [
              "<div>\n",
              "<style scoped>\n",
              "    .dataframe tbody tr th:only-of-type {\n",
              "        vertical-align: middle;\n",
              "    }\n",
              "\n",
              "    .dataframe tbody tr th {\n",
              "        vertical-align: top;\n",
              "    }\n",
              "\n",
              "    .dataframe thead th {\n",
              "        text-align: right;\n",
              "    }\n",
              "</style>\n",
              "<table border=\"1\" class=\"dataframe\">\n",
              "  <thead>\n",
              "    <tr style=\"text-align: right;\">\n",
              "      <th></th>\n",
              "      <th>rating</th>\n",
              "    </tr>\n",
              "  </thead>\n",
              "  <tbody>\n",
              "    <tr>\n",
              "      <th>count</th>\n",
              "      <td>1.0</td>\n",
              "    </tr>\n",
              "    <tr>\n",
              "      <th>mean</th>\n",
              "      <td>1.0</td>\n",
              "    </tr>\n",
              "    <tr>\n",
              "      <th>std</th>\n",
              "      <td>NaN</td>\n",
              "    </tr>\n",
              "    <tr>\n",
              "      <th>min</th>\n",
              "      <td>1.0</td>\n",
              "    </tr>\n",
              "    <tr>\n",
              "      <th>25%</th>\n",
              "      <td>1.0</td>\n",
              "    </tr>\n",
              "    <tr>\n",
              "      <th>50%</th>\n",
              "      <td>1.0</td>\n",
              "    </tr>\n",
              "    <tr>\n",
              "      <th>75%</th>\n",
              "      <td>1.0</td>\n",
              "    </tr>\n",
              "    <tr>\n",
              "      <th>max</th>\n",
              "      <td>1.0</td>\n",
              "    </tr>\n",
              "  </tbody>\n",
              "</table>\n",
              "</div>"
            ],
            "text/plain": [
              "       rating\n",
              "count     1.0\n",
              "mean      1.0\n",
              "std       NaN\n",
              "min       1.0\n",
              "25%       1.0\n",
              "50%       1.0\n",
              "75%       1.0\n",
              "max       1.0"
            ]
          },
          "execution_count": 172,
          "metadata": {},
          "output_type": "execute_result"
        }
      ],
      "source": [
        "pr_data = data_categorized.drop_duplicates(subset=['rating'], keep='last')\n",
        "pr_data"
      ]
    },
    {
      "cell_type": "code",
      "execution_count": 175,
      "metadata": {},
      "outputs": [
        {
          "data": {
            "image/png": "[encoded data removed]",
            "text/plain": [
              "<Figure size 576x360 with 1 Axes>"
            ]
          },
          "metadata": {
            "needs_background": "light"
          },
          "output_type": "display_data"
        }
      ],
      "source": [
        "plt.figure(figsize=(8, 5))\n",
        "plt.hist(data_categorized.rating, bins=12)\n",
        "plt.xlabel('rating')\n",
        "plt.show()"
      ]
    },
    {
      "cell_type": "code",
      "execution_count": 177,
      "metadata": {},
      "outputs": [],
      "source": [
        "data_categorized.to_csv('Dataset/preprocessed_data_categorized.csv', index=False)"
      ]
    }
  ],
  "metadata": {
    "kernelspec": {
      "display_name": "Python 3.10.4 64-bit",
      "language": "python",
      "name": "python3"
    },
    "language_info": {
      "codemirror_mode": {
        "name": "ipython",
        "version": 3
      },
      "file_extension": ".py",
      "mimetype": "text/x-python",
      "name": "python",
      "nbconvert_exporter": "python",
      "pygments_lexer": "ipython3",
      "version": "3.10.4"
    },
    "orig_nbformat": 4,
    "vscode": {
      "interpreter": {
        "hash": "cd9b3c3ce535f3df8fa4a2a3b4b8e96302473c621a3f6a68aa61331904648152"
      }
    }
  },
  "nbformat": 4,
  "nbformat_minor": 2
}
